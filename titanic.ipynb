# Python_project
"Titanic survival Pridiction"
"Importing the libraries"

import pandas as pd
import numpy as np
from pandas import Series,DataFrame
from numpy.random import randn
import seaborn as sns
import matplotlib as mpl
import matplotlib.pyplot as plt
from scipy import stats

"Reading the data"
titanic=pd.read_csv('Desktop/titanic/train.csv')

"Quick look at the data"
titanic.head()
titanic.info()
"We find that lot of information is missing"

"Analysis of the passengers"
sns.catplot("Sex",data=titanic,kind='count')
sns.catplot("Pclass",data=titanic,hue='Sex',kind='count')

"Defining a function to identify how many children's were there on board"
def child(passenger):
    age,sex= passenger
    
    if age<16:
        return child
    else:
        return sex

titanic['person']= titanic[['Age','Sex']].apply(child,axis=1). "calling the function"

"Look at the data again "
titanic[0:11] "you'll see a new column person"
sns.catplot('Pclass',data=titanic,kind='count',hue='person')

'Finding the mean of the ages'
titanic['Age'].hist(bins=70)

"Value counts"
titanic['person'].value_counts()

"Multiple plots in one figure , 'Age distribution' "

fig=sns.FacetGrid(titanic,hue='Sex',aspect=4)
fig.map(sns.kdeplot,'Age',shade=True)

oldest=titanic['Age'].max()
fig.set(xlim=(0,oldest))
fig.add_legend()

"lets include the children as well"

fig=sns.FacetGrid(titanic,hue='person',aspect=4)
fig.map(sns.kdeplot,'Age',shade=True)

oldest=titanic['Age'].max()
fig.set(xlim=(0,oldest))
fig.add_legend()

'Dropping the null values froom the deck column'
deck=titanic['Cabin'].dropna()

deck.head()
levels=[]
for level in deck:
    levels.append(level[0])
    
cabin_df=DataFrame(levels)
cabin_df.columns=['Cabin']
sns.catplot('Cabin',data=cabin_df,kind='count',palette='spring')
cabin_df=cabin_df[cabin_df.Cabin !='T']
sns.catplot('Cabin',data=cabin_df,kind='count',palette='summer')
sns.catplot('Embarked',data=titanic,hue='Pclass',kind='count')

"let's see who all came with family"

titanic['Alone'] =  titanic.Parch + titanic.SibSp
titanic['Alone']
# We'll add the parent/child column with the sibsp column

titanic['Alone'].loc[titanic['Alone'] >0] = 'With Family'
titanic['Alone'].loc[titanic['Alone'] == 0] = 'Alone'.    "The erroe here is nothing just a check that a value is trying to be set on a copy of a slice from a DataFrame

sns.factorplot('Alone',data=titanic,kind='count',palette='Blues')

sns.factorplot('Pclass','Survived',data=titanic)
sns.factorplot('Pclass','Survived',hue='person',data=titanic)
sns.lmplot('Age','Survived',data=titanic)
# Let's use a linear plot on age versus survival using hue for class seperation
generations=[10,20,40,60,80]
sns.lmplot('Age','Survived',hue='Pclass',data=titanic,palette='winter',x_bins=generations)

