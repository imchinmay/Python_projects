import numpy as np

from pandas import Series,DataFrame
import pandas as pd
obj = Series([3,6,9,12])
obj
